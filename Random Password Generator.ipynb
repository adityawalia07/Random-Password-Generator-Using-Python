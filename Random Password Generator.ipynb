{
 "cells": [
  {
   "cell_type": "code",
   "execution_count": 5,
   "id": "1ed143e7",
   "metadata": {},
   "outputs": [],
   "source": [
    "import random\n",
    "characters = \"abcdefghijklmnopqrstuvwxyzABCDEFGHIJKLMNOPQRSTUVWXYZ!@#$%&amp;*1234567890\""
   ]
  },
  {
   "cell_type": "code",
   "execution_count": 6,
   "id": "829294ca",
   "metadata": {},
   "outputs": [
    {
     "name": "stdin",
     "output_type": "stream",
     "text": [
      "Enter Password length:  25\n"
     ]
    }
   ],
   "source": [
    "length = int(input(\"Enter Password length: \"))\n",
    "Password = \"\""
   ]
  },
  {
   "cell_type": "code",
   "execution_count": 7,
   "id": "7ca03228",
   "metadata": {},
   "outputs": [
    {
     "name": "stdout",
     "output_type": "stream",
     "text": [
      "pE940FfZ#;suAH%4DuauZhZKr\n"
     ]
    }
   ],
   "source": [
    "for i in range(length):\n",
    "    Password += random.choice(characters)\n",
    "print(Password)"
   ]
  },
  {
   "cell_type": "markdown",
   "id": "e7b68810-a0cc-49cb-8e47-72832caca281",
   "metadata": {},
   "source": [
    "## End"
   ]
  }
 ],
 "metadata": {
  "kernelspec": {
   "display_name": "Python 3 (ipykernel)",
   "language": "python",
   "name": "python3"
  },
  "language_info": {
   "codemirror_mode": {
    "name": "ipython",
    "version": 3
   },
   "file_extension": ".py",
   "mimetype": "text/x-python",
   "name": "python",
   "nbconvert_exporter": "python",
   "pygments_lexer": "ipython3",
   "version": "3.11.7"
  }
 },
 "nbformat": 4,
 "nbformat_minor": 5
}
